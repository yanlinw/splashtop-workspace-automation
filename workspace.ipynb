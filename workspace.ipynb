{
 "cells": [
  {
   "attachments": {},
   "cell_type": "markdown",
   "metadata": {},
   "source": [
    "# Splashtop Secure Workspace Automation\n",
    "Splashtop Secure Workspace provides rich set of API with full automation capability of managing and working within the workspace. Since secure workspace provides IT admin and end user an all-in-one platform to access all their applications and data, it is important to be able to automate the provisioning of the workspace and the applications within the workspace. The automation capability provide IT admin, developers and end users the unprecedented flexibility to manage and work within the workspace, for example:\n",
    "* IT admin can automate the provisioning of the workspace and applications to the end users\n",
    "* Developers can automate and orchestrate their geo-distributed applications within single piece of code\n",
    "* End users can automate their daily tasks within the workspace\n",
    "* System admins can automate the network configuration within the workspace \n",
    "\n",
    "\n",
    "## Secure Workspace as Code (SWaC)\n",
    "With the full automation capability, this notebook can fulfill the following example use cases without manual install any application or configuration/setup:\n",
    "* Authenticate to your workspace\n",
    "* Managed the workspace as admin for example provision an example restful API application to all users group\n",
    "* Tunnel to the remote restful API application and invoke the API\n",
    "\n"
   ]
  },
  {
   "attachments": {},
   "cell_type": "markdown",
   "metadata": {},
   "source": [
    "## Prerequisites\n",
    "* Assuming you have an Splashtop Secure Workspace account\n",
    "* Python and Jupyter notebook installed \n",
    "* Generate Secure Workspace API key \n",
    "    - Login to Splashtop Business web console, go to Settings -> API Keys -> Generate API Key, copy the API key.\n",
    "    - update the apikey.py file with the API key    "
   ]
  },
  {
   "attachments": {},
   "cell_type": "markdown",
   "metadata": {},
   "source": [
    "## Install Python Libraries"
   ]
  },
  {
   "cell_type": "code",
   "execution_count": 121,
   "metadata": {},
   "outputs": [
    {
     "name": "stdout",
     "output_type": "stream",
     "text": [
      "\u001b[33mWARNING: Skipping /opt/homebrew/lib/python3.11/site-packages/cffi-1.15.1-py3.11.egg-info due to invalid metadata entry 'name'\u001b[0m\u001b[33m\n",
      "\u001b[0mRequirement already satisfied: requests in /opt/homebrew/lib/python3.11/site-packages (2.30.0)\n",
      "Requirement already satisfied: PyJWT in /opt/homebrew/lib/python3.11/site-packages (2.6.0)\n",
      "Requirement already satisfied: charset-normalizer<4,>=2 in /opt/homebrew/lib/python3.11/site-packages (from requests) (3.1.0)\n",
      "Requirement already satisfied: idna<4,>=2.5 in /opt/homebrew/lib/python3.11/site-packages (from requests) (3.4)\n",
      "Requirement already satisfied: urllib3<3,>=1.21.1 in /opt/homebrew/lib/python3.11/site-packages (from requests) (1.26.15)\n",
      "Requirement already satisfied: certifi>=2017.4.17 in /opt/homebrew/lib/python3.11/site-packages (from requests) (2022.12.7)\n",
      "\u001b[33mWARNING: Skipping /opt/homebrew/lib/python3.11/site-packages/cffi-1.15.1-py3.11.egg-info due to invalid metadata entry 'name'\u001b[0m\u001b[33m\n",
      "\u001b[0m\n",
      "\u001b[1m[\u001b[0m\u001b[34;49mnotice\u001b[0m\u001b[1;39;49m]\u001b[0m\u001b[39;49m A new release of pip is available: \u001b[0m\u001b[31;49m23.0.1\u001b[0m\u001b[39;49m -> \u001b[0m\u001b[32;49m23.1.2\u001b[0m\n",
      "\u001b[1m[\u001b[0m\u001b[34;49mnotice\u001b[0m\u001b[1;39;49m]\u001b[0m\u001b[39;49m To update, run: \u001b[0m\u001b[32;49mpython3.11 -m pip install --upgrade pip\u001b[0m\n"
     ]
    }
   ],
   "source": [
    "\n",
    "!pip install requests PyJWT"
   ]
  },
  {
   "attachments": {},
   "cell_type": "markdown",
   "metadata": {},
   "source": [
    "## Setup Variables\n",
    "setup the following cell with variables for your environment"
   ]
  },
  {
   "cell_type": "code",
   "execution_count": 122,
   "metadata": {},
   "outputs": [],
   "source": [
    "import os\n",
    "import json\n",
    "import subprocess\n",
    "import requests\n",
    "import time\n",
    "from apikey import apikey\n",
    "\n",
    "DEBUG = True\n",
    "curr_path = os.getcwd()\n",
    "\n",
    "# Variables - fill these in\n",
    "# apikey from import\n",
    "server_url = 'demo.stage.ztw.splashtop.com'\n",
    "org_name = 'demo'\n",
    "env = 'stage'\n",
    "site_name = 'cloud-connector'\n",
    "network_name = 'demo'\n",
    "edge_name = 'US-WEST-1'\n",
    "EXE_FILE = ''\n",
    "ERROR_MESSAGE = ''"
   ]
  },
  {
   "attachments": {},
   "cell_type": "markdown",
   "metadata": {},
   "source": [
    "## Authentication and Access Tokens\n",
    "Run the following cell to authenticate to the Secure Workspace and get auth tokens. There are 2 types of tokens:\n",
    "* iam_token: used for secure workspace IAM operations, e.g. authentication, user management, group management, etc.\n",
    "* sdp_token: used for secure workspace zero trust application management operations, e.g. application provisioning, client management, etc."
   ]
  },
  {
   "cell_type": "code",
   "execution_count": 124,
   "metadata": {},
   "outputs": [
    {
     "name": "stdout",
     "output_type": "stream",
     "text": [
      "sdp_iam_token.json: {'code': 0, 'message': 'success', 'data': {'iam_token': 'eyJhbGciOiJIUzI1NiIsInR5cCI6IkpXVCJ9.eyJhY3RpdmUiOnRydWUsImF1dG9fdW5sb2NrIjp0cnVlLCJjdXJyZW50X29yZ2FuaXphdGlvbl9pZCI6ImZkMWMzOTdjLWE2YTctNDNiMy04MWVmLWRmMjE1ZjBiODZmOSIsImVtYWlsIjoieWFubGluLndhbmdAc3BsYXNodG9wLmNvbSIsImV4cCI6MTY4Mzg3NzM3OSwiZnVsbF9uYW1lIjoiWWFubGluIFdhbmciLCJncm91cHMiOlt7Imdyb3VwX2lkIjoiNjJhYjY5MzctMDdkMC00NDNjLThhYTEtZmQzYzkyNzRlYTVjIiwibmFtZSI6Il9hbGx1c2VyIn0seyJncm91cF9pZCI6IjhmY2ExNzVhLWY2Y2MtNDhmYS1hOGQzLTUwOTFjMTFkMzZiZiIsIm5hbWUiOiJfb3JnYWRtaW4ifSx7Imdyb3VwX2lkIjoiYTQwMzFmODMtYzY4Ni00ZTg1LWI3MDMtMTg3OWE3Y2ZmZjVlIiwibmFtZSI6ImxhYiJ9LHsiZ3JvdXBfaWQiOiJiMjM5MGNiNi01ZjdmLTRlMzAtOTRkMy0yODMzNTk2M2VhMTkiLCJuYW1lIjoiZW1wbG95ZWVzIn1dLCJpYXQiOjE2ODM4NzY3NzksImlkIjoiNzk1OWExZjItNWQ1OS00ODBiLWEyYjYtYjViMGM2NzI5MjYzIiwiaW5pdF9wd2QiOiIiLCJsb2dpbl9uYW1lIjoieXdhbmdAZGVtby5zdGFnZS56dHcuc3BsYXNodG9wLmNvbSIsIm5lZWRfY3JlYXRlX3VzZXIiOnRydWUsIm5lZWRfbWZhX3NldHRpbmdzIjpmYWxzZSwibmVlZF9yZXNldF9wd2QiOmZhbHNlLCJvcmdhbml6YXRpb24iOiJkZW1vIiwib3JnYW5pemF0aW9ucyI6W3sib3JnYW5pemF0aW9uX2lkIjoiZmQxYzM5N2MtYTZhNy00M2IzLTgxZWYtZGYyMTVmMGI4NmY5IiwibmFtZSI6ImRlbW8ifV0sInJvbGVzIjpbInN1cGVyYWRtaW4iXSwic2hvcnRfbmFtZSI6Inl3YW5nIiwic2lkIjoiZDMxMjBlYjcwNmU2NDRlOTgxMGIzMzZhZDhkYmJmMGQiLCJ0ZW5hbnQiOiJkZW1vIiwidGVuYW50X2lkIjoiZGM3MzQzMGEtY2Q4Yi00Mzk3LWIxNzEtMjdjYjJlY2VlM2IzIiwidGVuYW50X3R5cGUiOiJ6dHciLCJ1c2VyX25hbWUiOiJ5d2FuZ0BkZW1vLnN0YWdlLnp0dy5zcGxhc2h0b3AuY29tIiwidXNlcl90eXBlIjoxfQ._QWqyfdPiEFs6NbsWO7-vx40HJggww4yMKFCI8k1Ng0', 'sdp_token': 'eyJhbGciOiJIUzI1NiIsInR5cCI6IkpXVCJ9.eyJleHAiOjE2ODM4NzczNzksImJfdG9rZW4iOiJhSnk5czYvdlhJenkxWjBzZFByaUNpZUN6WjNTcHRCeDVXcFl4NzBraHFlUFk0TVZmU05MQUMyL2JiaG5YaE1xTVB5TFN0dno0aVl5MGY1NE1FcWhxVnVRdVFhbE9lTDlaQ1JkaHlZS2dHM0RpekkzQkUwZnByWDlHZkhuSnpia1pBZiszcjRqQkNscjB4ZkJBaE5XUGNSUHZIVktEYTgwbEt0eDFLNkxONmdBNHAxYS9rc3BxdkdsQjNETm1mdGRyQkM5dTBrVTROc1o1Q2NUeUxrQUM0OURVTGxSTWhkSFd3Y3greHFRakEvRGVRPT0iLCJiX3Rva2VuX2V4cCI6MTY4Mzk2MzE3OSwidXNlcl9pZCI6Ijc5NTlhMWYyLTVkNTktNDgwYi1hMmI2LWI1YjBjNjcyOTI2MyIsInNob3J0X25hbWUiOiJ5d2FuZyIsInRlbmFudF9pZCI6ImRjNzM0MzBhLWNkOGItNDM5Ny1iMTcxLTI3Y2IyZWNlZTNiMyIsIm9yZ19pZCI6ImZkMWMzOTdjLWE2YTctNDNiMy04MWVmLWRmMjE1ZjBiODZmOSIsImN1cnJlbnRfb3JnX2lkIjoiZmQxYzM5N2MtYTZhNy00M2IzLTgxZWYtZGYyMTVmMGI4NmY5IiwiY2xpZW50X2lkIjoiIiwicG9zdHVyZV9jaGVjayI6MCwic2lkIjoiZDMxMjBlYjcwNmU2NDRlOTgxMGIzMzZhZDhkYmJmMGQiLCJyb2xlX25hbWUiOiJzdXBlcmFkbWluIn0.Kh7cwgmXaAIdgx5lqFPTnv-NHs6MuCutNnlytVqr8dc'}}\n"
     ]
    }
   ],
   "source": [
    "# Get SDP token\n",
    "apikey_token = {\"apikey\": apikey}\n",
    "response = requests.post(f\"https://{server_url}/iam/v1/apikey/authenticate\", json=apikey_token)\n",
    "if response.status_code == 200 and response.json().get('code')==0:\n",
    "        sdp_token_new = response.json().get('data').get('sdp_token')\n",
    "        iam_token_new = response.json().get('data').get('iam_token')\n",
    "        if DEBUG:\n",
    "            print(f'sdp_iam_token.json: {response.json()}')\n",
    "        if not sdp_token_new:\n",
    "            ERROR_MESSAGE += \"Error: sdp_token_new is empty, get sdp token failed \\n\"\n",
    "else:\n",
    "        ERROR_MESSAGE += f\"Error: HTTP {response.status_code} - {response.text} \\n\"\n",
    "\n",
    "\n"
   ]
  },
  {
   "attachments": {},
   "cell_type": "markdown",
   "metadata": {},
   "source": [
    "## Get Organization From IAM Token\n",
    "From the IAM token, we can get the organization information. The organization is the top level container of the secure workspace. All the users, groups, applications, etc. are under the organization. It provides multi-tenant capability for each workspace account. The organization id is used for all the secure workspace API calls."
   ]
  },
  {
   "cell_type": "code",
   "execution_count": 125,
   "metadata": {},
   "outputs": [],
   "source": [
    "import jwt\n",
    "import json\n",
    "\n",
    "# Base64 encoded JSON token\n",
    "encoded_token = iam_token_new\n",
    "\n",
    "# Decoding the JWT\n",
    "decoded_token = jwt.decode(encoded_token, options={\"verify_signature\":False})\n",
    "\n",
    "# Loading the payload into a JSON object\n",
    "payload_json = json.loads(json.dumps(decoded_token))\n",
    "\n",
    "# Extracting the organization ID\n",
    "organization_id = payload_json['current_organization_id']\n"
   ]
  },
  {
   "attachments": {},
   "cell_type": "markdown",
   "metadata": {},
   "source": [
    "## Retrieve Group Information\n",
    "From the organization id, we can retrieve all the groups within the organization. In the example, we will get information of a built-in group - \"All User\"."
   ]
  },
  {
   "cell_type": "code",
   "execution_count": 126,
   "metadata": {},
   "outputs": [
    {
     "name": "stdout",
     "output_type": "stream",
     "text": [
      "group_id : 62ab6937-07d0-443c-8aa1-fd3c9274ea5c\n"
     ]
    }
   ],
   "source": [
    "# Get group_id for all user group\n",
    "headers = {\"Accept\": \"application/json, text/plain, */*\", \"Authorization\": f\"Bearer {iam_token_new}\", \"Content-Type\": \"application/json;charset=UTF-8\"}\n",
    "response = requests.get(f\"https://{server_url}/iam/v1/organization/{organization_id}/groups?page_size=99999\", headers=headers)\n",
    "\n",
    "group_id  = ''\n",
    "if response.status_code == 200 and response.json().get('code')==0:\n",
    "        # find the \"All User\" group_id\n",
    "        group_id = response.json().get('data').get('list')[0].get('group_id')\n",
    "elif response.status_code != 200:\n",
    "        ERROR_MESSAGE += f\"Error: HTTP {response.status_code} - {response.text} \\n\"\n",
    "        print (ERROR_MESSAGE)\n",
    "else:\n",
    "        ERROR_MESSAGE += f\"Error: {response.json().get('message')} \\n\" \n",
    "        print (ERROR_MESSAGE)       \n",
    "print(f'group_id : {group_id }')\n"
   ]
  },
  {
   "attachments": {},
   "cell_type": "markdown",
   "metadata": {},
   "source": [
    "## Retrieve Application Information & Provision Application to \"All User\" Group\n",
    "From the organization id, we can retrieve all the applications within the organization. In the example, we will get information of an example application - \"ztw-restful-cloud\", then provision the application to the \"All User\" group."
   ]
  },
  {
   "cell_type": "code",
   "execution_count": 128,
   "metadata": {},
   "outputs": [
    {
     "name": "stdout",
     "output_type": "stream",
     "text": [
      "application: {'org_id': 'fd1c397c-a6a7-43b3-81ef-df215f0b86f9', 'id': '4faf8585-6c2f-404f-b545-a894102266d0', 'edge_id': '8fdfcf14-d6a6-4b86-af4a-69b0eae5ce50', 'site_id': '307eb6bc-7188-45f4-a574-e7f72dc4fbfe', 'site_name': 'cloud-k8s-connector', 'site_display_name': 'cloud-k8s-connector', 'conn_id': '', 'conn_status': 0, 'name': 'ztw-restful-cloud', 'display_name': 'ztw-restful-cloud', 'network_name': 'demo', 'group_ids': ['anonymous'], 'protocol': 'http', 'hosts': [{'host': 'ztenv-myrestful.default.svc.cluster.local', 'port': 8080}], 'host': 'ztenv-myrestful.default.svc.cluster.local', 'port': 8080, 'ports': [8080], 'fqdn': 'ngzhzjg1odut.app.e1-sanfrancisco-c1-usw2.stage.ztw.splashtop.com', 'ip': '', 'access_type': 'all', 'webgate_url': '', 'app_web_config': '{\"host\":\"ztenv-myrestful.default.svc.cluster.local\",\"port\":8080,\"via_private_network\":true,\"max_session_duration\":28800,\"interception_uri\":[]}', 'icon': 'http', 'status': 2, 'tunnel_status': 0, 'launch_script_id': '', 'max_session_duration': 28800, 'via_private_network': True, 'enabled': True, 'create_time': '2023-05-11T20:30:44.857306Z', 'update_time': '2023-05-12T03:24:19.405014Z', 'created_by': '7959a1f2-5d59-480b-a2b6-b5b0c6729263', 'updated_by': '7959a1f2-5d59-480b-a2b6-b5b0c6729263', 'creator': 'ywang', 'updater': 'ywang'}\n",
      "Update Application Success: success \n",
      "\n"
     ]
    }
   ],
   "source": [
    "# find the ztw-restful-cloud application\n",
    "headers = {\"Accept\": \"application/json, text/plain, */*\", \"Authorization\": f\"Bearer {sdp_token_new}\", \"Content-Type\": \"application/json;charset=UTF-8\"}\n",
    "response = requests.get(f\"https://{server_url}/ztna/v1/application?search=&order=&desc=false&org_id={organization_id}\", headers=headers)\n",
    "\n",
    "application = {} \n",
    "if response.status_code == 200 and response.json().get('code')==0:\n",
    "        # find the \"All User\" group_id\n",
    "        apps = response.json().get('data').get('list')\n",
    "        for app in apps:\n",
    "            if app.get('name') == 'ztw-restful-cloud':\n",
    "                application = app\n",
    "                break \n",
    "elif response.status_code != 200:\n",
    "        ERROR_MESSAGE += f\"Error: HTTP {response.status_code} - {response.text} \\n\"\n",
    "        print (ERROR_MESSAGE)\n",
    "else:\n",
    "        ERROR_MESSAGE += f\"Error: {response.json().get('message')} \\n\" \n",
    "        print (ERROR_MESSAGE)       \n",
    "print(f'application: {application}')\n",
    "application_id = application.get('id')\n",
    "\n",
    "#update the application by assigning all users group to it\n",
    "\n",
    "# Check if the application not have the group_id, append all users group to it\n",
    "if group_id not in application.get('group_ids'):\n",
    "        application.get('group_ids').append(group_id)\n",
    "\n",
    "\n",
    "headers = {\"Accept\": \"application/json, text/plain, */*\", \"Authorization\": f\"Bearer {sdp_token_new}\", \"Content-Type\": \"application/json;charset=UTF-8\"}\n",
    "response = requests.put(f\"https://{server_url}/ztna/v1/application/{application_id}\",  headers=headers, data=json.dumps(application))\n",
    "\n",
    "if response.status_code == 200 and response.json().get('code')==0:\n",
    "        print (f\"Update Application Success: {response.json().get('message')} \\n\")\n",
    "elif response.status_code != 200:\n",
    "        ERROR_MESSAGE += f\"Error: HTTP {response.status_code} - {response.text} \\n\"\n",
    "        print (ERROR_MESSAGE)\n",
    "else:\n",
    "        ERROR_MESSAGE += f\"Error: {response.json().get('message')} \\n\" \n",
    "        print (ERROR_MESSAGE)       \n",
    "\n"
   ]
  },
  {
   "attachments": {},
   "cell_type": "markdown",
   "metadata": {},
   "source": [
    "## Automate Secure Workspace CLI installation\n",
    "In order to connect to secure workspace remote applications from automation code, we need to install the secure workspace CLI. The following code will automate the installation of the CLI using brew, assuming you are using macOS."
   ]
  },
  {
   "cell_type": "code",
   "execution_count": 130,
   "metadata": {},
   "outputs": [
    {
     "name": "stdout",
     "output_type": "stream",
     "text": [
      "/bin/bash: #!/bin/bash: No such file or directory\n"
     ]
    }
   ],
   "source": [
    "#on MacOS install brew if not installed\n",
    "! /bin/bash -c '$(curl -fsSL https://raw.githubusercontent.com/Homebrew/install/HEAD/install.sh)'"
   ]
  },
  {
   "cell_type": "code",
   "execution_count": 131,
   "metadata": {},
   "outputs": [],
   "source": [
    "#on MacOS brew add tap if not added\n",
    "!brew tap SplashtopInc/workspace\n"
   ]
  },
  {
   "cell_type": "code",
   "execution_count": 86,
   "metadata": {},
   "outputs": [
    {
     "name": "stdout",
     "output_type": "stream",
     "text": [
      "\u001b[32m==>\u001b[0m \u001b[1mFetching dependencies for splashtopinc/workspace/sdpc: \u001b[32mgit\u001b[39m\u001b[0m\n",
      "\u001b[32m==>\u001b[0m \u001b[1mFetching \u001b[32mgit\u001b[39m\u001b[0m\n",
      "\u001b[34m==>\u001b[0m \u001b[1mDownloading https://ghcr.io/v2/homebrew/core/git/manifests/2.40.1\u001b[0m\n",
      "######################################################################### 100.0%\n",
      "\u001b[34m==>\u001b[0m \u001b[1mDownloading https://ghcr.io/v2/homebrew/core/git/blobs/sha256:df2e65dfd20e76\u001b[0m\n",
      "\u001b[34m==>\u001b[0m \u001b[1mDownloading from https://pkg-containers.githubusercontent.com/ghcr1/blobs/sh\u001b[0m\n",
      "######################################################################### 100.0%\n",
      "\u001b[32m==>\u001b[0m \u001b[1mFetching \u001b[32msplashtopinc/workspace/sdpc\u001b[39m\u001b[0m\n",
      "\u001b[34m==>\u001b[0m \u001b[1mDownloading https://s3.us-west-2.amazonaws.com/splashlock-assets.splashshiel\u001b[0m\n",
      "######################################################################### 100.0%\n",
      "\u001b[34m==>\u001b[0m \u001b[1mInstalling sdpc from splashtopinc/workspace\u001b[0m\n",
      "\u001b[33mWarning:\u001b[0m Your Xcode (14.2) is outdated.\n",
      "Please update to Xcode 14.3 (or delete it).\n",
      "Xcode can be updated from the App Store.\n",
      "\n",
      "\u001b[32m==>\u001b[0m \u001b[1mInstalling dependencies for splashtopinc/workspace/sdpc: \u001b[32mgit\u001b[39m\u001b[0m\n",
      "\u001b[32m==>\u001b[0m \u001b[1mInstalling splashtopinc/workspace/sdpc dependency: \u001b[32mgit\u001b[39m\u001b[0m\n",
      "\u001b[34m==>\u001b[0m \u001b[1mPouring git--2.40.1.arm64_ventura.bottle.tar.gz\u001b[0m\n",
      "🍺  /opt/homebrew/Cellar/git/2.40.1: 1,635 files, 48.9MB\n",
      "\u001b[32m==>\u001b[0m \u001b[1mInstalling \u001b[32msplashtopinc/workspace/sdpc\u001b[39m\u001b[0m\n",
      "🍺  /opt/homebrew/Cellar/sdpc/0.1.39-stage-0.0.3.34: 5 files, 42.4MB, built in 7 seconds\n",
      "\u001b[34m==>\u001b[0m \u001b[1mRunning `brew cleanup sdpc`...\u001b[0m\n",
      "Disable this behaviour by setting HOMEBREW_NO_INSTALL_CLEANUP.\n",
      "Hide these hints with HOMEBREW_NO_ENV_HINTS (see `man brew`).\n"
     ]
    }
   ],
   "source": [
    "#on MacOS brew install the secure workspace cli client\n",
    "!brew install sdpc"
   ]
  },
  {
   "attachments": {},
   "cell_type": "markdown",
   "metadata": {},
   "source": [
    "## Automate Network Tunneling to the Remote Application\n",
    "\n",
    "With the secure workspace CLI installed, we can automate the network tunneling to the remote application. In the example, we will tunnel to the remote restful API application and invoke the API. When rune this cell, please notice the notebook will prompt for your local os password in order to run sudo, then you should wait for the cli to establish the tunnel, if the connection established, you should see the output: \n",
    "\n",
    "```bash\n",
    "ztw-restful-cloud connect success\n",
    "```"
   ]
  },
  {
   "cell_type": "code",
   "execution_count": 132,
   "metadata": {},
   "outputs": [
    {
     "data": {
      "text/plain": [
       "<Popen: returncode: None args: ['./script.sh']>"
      ]
     },
     "execution_count": 132,
     "metadata": {},
     "output_type": "execute_result"
    },
    {
     "name": "stderr",
     "output_type": "stream",
     "text": [
      "Password:"
     ]
    },
    {
     "name": "stdout",
     "output_type": "stream",
     "text": [
      "ztw-restful-cloud connect success \n"
     ]
    }
   ],
   "source": [
    "#use sdpc to connect to the ztw-restful-cloud application\n",
    "\n",
    "# generate the network connection script\n",
    "from getpass import getpass\n",
    "import subprocess\n",
    "\n",
    "password = getpass()\n",
    "script_content = f\"\"\"\n",
    "#!/bin/bash\n",
    "echo {password} | sudo -S /opt/homebrew/bin/sdpc -apikey {apikey} -sdp_server https://stage.ztw.splashtop.com -org demo  {application_id}\n",
    "\"\"\"\n",
    "\n",
    "# Write the script_content to a file\n",
    "with open('script.sh', 'w') as f:\n",
    "    f.write(script_content)\n",
    "\n",
    "# Change the permission of the script to be executable\n",
    "!chmod +x script.sh\n",
    "\n",
    "# Run the script in a subprocess, if the connection established, you should see the output: ztw-restful-cloud connect success \n",
    "subprocess.Popen(['./script.sh'],  shell=True)\n"
   ]
  },
  {
   "attachments": {},
   "cell_type": "markdown",
   "metadata": {},
   "source": [
    "## API Call to The Secure Workspace Managed Remote Application\n",
    "With the network tunneling established to the remote restful application, we will invoke the API from this notebook. The example application is a simple restful API that returns: \n",
    "\n",
    "```json\n",
    "{\n",
    "    \"message\": \"Hello World!\"\n",
    "}\n",
    "```"
   ]
  },
  {
   "cell_type": "code",
   "execution_count": 133,
   "metadata": {},
   "outputs": [
    {
     "name": "stdout",
     "output_type": "stream",
     "text": [
      "Success: {'message': 'HelloWorld'} \n",
      "\n"
     ]
    }
   ],
   "source": [
    "headers = {\"Accept\": \"application/json, text/plain, */*\", \"Authorization\": f\"Bearer {sdp_token_new}\", \"Content-Type\": \"application/json;charset=UTF-8\"}\n",
    "response = requests.get(f\"http://ztenv-myrestful.default.svc.cluster.local:8080/\", headers=headers)\n",
    "\n",
    "if response.status_code == 200 :\n",
    "    print (f\"Success: {response.json()} \\n\")\n",
    "    \n",
    "else: \n",
    "    ERROR_MESSAGE += f\"Error: HTTP {response.status_code} - {response.text} \\n\"\n",
    "    print (ERROR_MESSAGE)\n"
   ]
  },
  {
   "attachments": {},
   "cell_type": "markdown",
   "metadata": {},
   "source": [
    "## Clean Up and Kill the Tunnel\n",
    "\n",
    "In this cell we will clean up the application and kill the tunnel. The script will prompt for your local os password in order to run sudo, then you should wait for the cli to kill the tunnel."
   ]
  },
  {
   "cell_type": "code",
   "execution_count": 135,
   "metadata": {},
   "outputs": [
    {
     "name": "stdout",
     "output_type": "stream",
     "text": [
      "Password:No matching processes were found\n"
     ]
    }
   ],
   "source": [
    "# kill the process to disconnect the secure workspace\n",
    "!echo {getpass()} | sudo -S killall sdpc\n",
    "!rm -f script.sh"
   ]
  }
 ],
 "metadata": {
  "kernelspec": {
   "display_name": "Python 3 (ipykernel)",
   "language": "python",
   "name": "python3"
  },
  "language_info": {
   "codemirror_mode": {
    "name": "ipython",
    "version": 3
   },
   "file_extension": ".py",
   "mimetype": "text/x-python",
   "name": "python",
   "nbconvert_exporter": "python",
   "pygments_lexer": "ipython3",
   "version": "3.11.3"
  },
  "orig_nbformat": 4,
  "vscode": {
   "interpreter": {
    "hash": "8a5edab282632443219e051e4ade2d1d5bbc671c781051bf1437897cbdfea0f1"
   }
  }
 },
 "nbformat": 4,
 "nbformat_minor": 2
}
