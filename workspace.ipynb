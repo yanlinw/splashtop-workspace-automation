{
 "cells": [
  {
   "attachments": {},
   "cell_type": "markdown",
   "metadata": {},
   "source": [
    "# Splashtop Secure Workspace Automation\n",
    "\n",
    "Splashtop Secure Workspace provides a rich set of APIs with full automation capability for managing and working within the workspace. The secure workspace offers IT administrators and end users an all-in-one platform to access their applications and data, making it crucial to automate the provisioning of the workspace and its applications. The automation capability empowers IT admins, developers, and end users with unprecedented flexibility to manage and work within the workspace. Some examples include:\n",
    "\n",
    "- IT admins can automate the provisioning of the workspace and applications for end users.\n",
    "- Developers can automate and orchestrate their geo-distributed applications using a single piece of code.\n",
    "- End users can automate their daily tasks within the workspace.\n",
    "- System admins can automate the network configuration within the workspace.\n",
    "\n",
    "## Secure Workspace as Code (SWaC)\n",
    "\n",
    "With the full automation capability, this notebook can fulfill the following example use cases without the need for manual installation of any applications or configuration/setup:\n",
    "\n",
    "- Authenticate to your workspace.\n",
    "- Manage the workspace as an admin, for example, provisioning a sample RESTful API application for all user groups.\n",
    "- Tunnel to the remote RESTful API application and invoke the API.\n",
    "\n"
   ]
  },
  {
   "attachments": {},
   "cell_type": "markdown",
   "metadata": {},
   "source": [
    "##Prerequisites:\n",
    "    - Splashtop Secure Workspace account\n",
    "    - Python and Jupyter Notebook installed\n",
    "\n",
    "## Generate Secure Workspace API key:\n",
    "    - Log in to the Splashtop Business web console.\n",
    "    - Go to Settings -> API Keys -> Generate API Key.\n",
    "    - Copy the API key.\n",
    "    - Update the `apikey.py` file with the API key.\n"
   ]
  },
  {
   "attachments": {},
   "cell_type": "markdown",
   "metadata": {},
   "source": [
    "## Install Python Libraries"
   ]
  },
  {
   "cell_type": "code",
   "execution_count": null,
   "metadata": {},
   "outputs": [],
   "source": [
    "\n",
    "!pip install requests PyJWT"
   ]
  },
  {
   "attachments": {},
   "cell_type": "markdown",
   "metadata": {},
   "source": [
    "## Setup Variables\n",
    "setup the following cell with variables for your environment"
   ]
  },
  {
   "cell_type": "code",
   "execution_count": 122,
   "metadata": {},
   "outputs": [],
   "source": [
    "import os\n",
    "import json\n",
    "import subprocess\n",
    "import requests\n",
    "import time\n",
    "from apikey import apikey\n",
    "\n",
    "DEBUG = True\n",
    "curr_path = os.getcwd()\n",
    "\n",
    "# Variables - fill these in\n",
    "# apikey from import\n",
    "server_url = 'demo.stage.ztw.splashtop.com'\n",
    "org_name = 'demo'\n",
    "env = 'stage'\n",
    "site_name = 'cloud-connector'\n",
    "network_name = 'demo'\n",
    "edge_name = 'US-WEST-1'\n",
    "EXE_FILE = ''\n",
    "ERROR_MESSAGE = ''"
   ]
  },
  {
   "attachments": {},
   "cell_type": "markdown",
   "metadata": {},
   "source": [
    "## Authentication and Access Tokens\n",
    "\n",
    "Run the following cell to authenticate to the Secure Workspace and obtain authentication tokens. There are two types of tokens available:\n",
    "\n",
    "* `iam_token`: Used for Secure Workspace IAM operations, such as authentication, user management, group management, etc.\n",
    "* `sdp_token`: Used for Secure Workspace zero trust application management operations, such as application provisioning, client management, etc."
   ]
  },
  {
   "cell_type": "code",
   "execution_count": null,
   "metadata": {},
   "outputs": [],
   "source": [
    "# Get SDP token\n",
    "apikey_token = {\"apikey\": apikey}\n",
    "response = requests.post(f\"https://{server_url}/iam/v1/apikey/authenticate\", json=apikey_token)\n",
    "if response.status_code == 200 and response.json().get('code')==0:\n",
    "        sdp_token_new = response.json().get('data').get('sdp_token')\n",
    "        iam_token_new = response.json().get('data').get('iam_token')\n",
    "        if DEBUG:\n",
    "            print(f'sdp_iam_token.json: {response.json()}')\n",
    "        if not sdp_token_new:\n",
    "            ERROR_MESSAGE += \"Error: sdp_token_new is empty, get sdp token failed \\n\"\n",
    "else:\n",
    "        ERROR_MESSAGE += f\"Error: HTTP {response.status_code} - {response.text} \\n\"\n",
    "\n",
    "\n"
   ]
  },
  {
   "attachments": {},
   "cell_type": "markdown",
   "metadata": {},
   "source": [
    "## Retrieve Organization Information from IAM Token\n",
    "\n",
    "By using the IAM token, we can retrieve the organization information. The organization represents the top-level container of the Secure Workspace. All users, groups, applications, and other entities reside within the organization. It provides a multi-tenant capability for each workspace account. The organization ID is utilized for all Secure Workspace API calls.\n"
   ]
  },
  {
   "cell_type": "code",
   "execution_count": 125,
   "metadata": {},
   "outputs": [],
   "source": [
    "import jwt\n",
    "import json\n",
    "\n",
    "# Base64 encoded JSON token\n",
    "encoded_token = iam_token_new\n",
    "\n",
    "# Decoding the JWT\n",
    "decoded_token = jwt.decode(encoded_token, options={\"verify_signature\":False})\n",
    "\n",
    "# Loading the payload into a JSON object\n",
    "payload_json = json.loads(json.dumps(decoded_token))\n",
    "\n",
    "# Extracting the organization ID\n",
    "organization_id = payload_json['current_organization_id']\n"
   ]
  },
  {
   "attachments": {},
   "cell_type": "markdown",
   "metadata": {},
   "source": [
    "## Retrieve Group Information\n",
    "By utilizing the organization ID, we can retrieve all the groups that exist within the organization. In this example, we will obtain information about a built-in group called \"All User\"."
   ]
  },
  {
   "cell_type": "code",
   "execution_count": null,
   "metadata": {},
   "outputs": [],
   "source": [
    "# Get group_id for all user group\n",
    "headers = {\"Accept\": \"application/json, text/plain, */*\", \"Authorization\": f\"Bearer {iam_token_new}\", \"Content-Type\": \"application/json;charset=UTF-8\"}\n",
    "response = requests.get(f\"https://{server_url}/iam/v1/organization/{organization_id}/groups?page_size=99999\", headers=headers)\n",
    "\n",
    "group_id  = ''\n",
    "if response.status_code == 200 and response.json().get('code')==0:\n",
    "        # find the \"All User\" group_id\n",
    "        group_id = response.json().get('data').get('list')[0].get('group_id')\n",
    "elif response.status_code != 200:\n",
    "        ERROR_MESSAGE += f\"Error: HTTP {response.status_code} - {response.text} \\n\"\n",
    "        print (ERROR_MESSAGE)\n",
    "else:\n",
    "        ERROR_MESSAGE += f\"Error: {response.json().get('message')} \\n\" \n",
    "        print (ERROR_MESSAGE)       \n",
    "print(f'group_id : {group_id }')\n"
   ]
  },
  {
   "attachments": {},
   "cell_type": "markdown",
   "metadata": {},
   "source": [
    "# Retrieve Application Information & Provision Application to the \"All User\" Group\n",
    "\n",
    "By using the organization ID, we can retrieve all the applications within the organization. In this example, we will obtain information about a sample application called \"ztw-restful-cloud\". Subsequently, we will provision the application to the \"All User\" group.\n"
   ]
  },
  {
   "cell_type": "code",
   "execution_count": null,
   "metadata": {},
   "outputs": [],
   "source": [
    "# find the ztw-restful-cloud application\n",
    "headers = {\"Accept\": \"application/json, text/plain, */*\", \"Authorization\": f\"Bearer {sdp_token_new}\", \"Content-Type\": \"application/json;charset=UTF-8\"}\n",
    "response = requests.get(f\"https://{server_url}/ztna/v1/application?search=&order=&desc=false&org_id={organization_id}\", headers=headers)\n",
    "\n",
    "application = {} \n",
    "if response.status_code == 200 and response.json().get('code')==0:\n",
    "        # find the \"All User\" group_id\n",
    "        apps = response.json().get('data').get('list')\n",
    "        for app in apps:\n",
    "            if app.get('name') == 'ztw-restful-cloud':\n",
    "                application = app\n",
    "                break \n",
    "elif response.status_code != 200:\n",
    "        ERROR_MESSAGE += f\"Error: HTTP {response.status_code} - {response.text} \\n\"\n",
    "        print (ERROR_MESSAGE)\n",
    "else:\n",
    "        ERROR_MESSAGE += f\"Error: {response.json().get('message')} \\n\" \n",
    "        print (ERROR_MESSAGE)       \n",
    "print(f'application: {application}')\n",
    "application_id = application.get('id')\n",
    "\n",
    "#update the application by assigning all users group to it\n",
    "\n",
    "# Check if the application not have the group_id, append all users group to it\n",
    "if group_id not in application.get('group_ids'):\n",
    "        application.get('group_ids').append(group_id)\n",
    "\n",
    "\n",
    "headers = {\"Accept\": \"application/json, text/plain, */*\", \"Authorization\": f\"Bearer {sdp_token_new}\", \"Content-Type\": \"application/json;charset=UTF-8\"}\n",
    "response = requests.put(f\"https://{server_url}/ztna/v1/application/{application_id}\",  headers=headers, data=json.dumps(application))\n",
    "\n",
    "if response.status_code == 200 and response.json().get('code')==0:\n",
    "        print (f\"Update Application Success: {response.json().get('message')} \\n\")\n",
    "elif response.status_code != 200:\n",
    "        ERROR_MESSAGE += f\"Error: HTTP {response.status_code} - {response.text} \\n\"\n",
    "        print (ERROR_MESSAGE)\n",
    "else:\n",
    "        ERROR_MESSAGE += f\"Error: {response.json().get('message')} \\n\" \n",
    "        print (ERROR_MESSAGE)       \n",
    "\n"
   ]
  },
  {
   "attachments": {},
   "cell_type": "markdown",
   "metadata": {},
   "source": [
    "## Automate Installation of Secure Workspace CLI\n",
    "\n",
    "To establish connections with secure workspace remote applications from automation code, it is necessary to install the secure workspace CLI. The provided code automates the installation process using brew, assuming that you are using macOS.\n"
   ]
  },
  {
   "cell_type": "code",
   "execution_count": null,
   "metadata": {},
   "outputs": [],
   "source": [
    "#on MacOS install brew if not installed\n",
    "! /bin/bash -c '$(curl -fsSL https://raw.githubusercontent.com/Homebrew/install/HEAD/install.sh)'"
   ]
  },
  {
   "cell_type": "code",
   "execution_count": 131,
   "metadata": {},
   "outputs": [],
   "source": [
    "#on MacOS brew add tap if not added\n",
    "!brew tap SplashtopInc/workspace\n"
   ]
  },
  {
   "cell_type": "code",
   "execution_count": null,
   "metadata": {},
   "outputs": [],
   "source": [
    "#on MacOS brew install the secure workspace cli client\n",
    "!brew install sdpc"
   ]
  },
  {
   "attachments": {},
   "cell_type": "markdown",
   "metadata": {},
   "source": [
    "## Automate Network Tunneling to the Remote Application\n",
    "\n",
    "Once the secure workspace CLI is installed, we can automate the network tunneling to the remote application. In this example, we will establish a tunnel to the remote RESTful API application and invoke the API. \n",
    "\n",
    "When running this cell, please note that the notebook will prompt for your local operating system password in order to run `sudo`. You should then wait for the CLI to establish the tunnel. If the connection is successfully established, you will see the following output:\n",
    "\n",
    "```bash\n",
    "ztw-restful-cloud connect success\n"
   ]
  },
  {
   "cell_type": "code",
   "execution_count": null,
   "metadata": {},
   "outputs": [],
   "source": [
    "#use sdpc to connect to the ztw-restful-cloud application\n",
    "\n",
    "# generate the network connection script\n",
    "from getpass import getpass\n",
    "import subprocess\n",
    "\n",
    "password = getpass()\n",
    "script_content = f\"\"\"\n",
    "#!/bin/bash\n",
    "echo {password} | sudo -S /opt/homebrew/bin/sdpc -apikey {apikey} -sdp_server https://stage.ztw.splashtop.com -org demo  {application_id}\n",
    "\"\"\"\n",
    "\n",
    "# Write the script_content to a file\n",
    "with open('script.sh', 'w') as f:\n",
    "    f.write(script_content)\n",
    "\n",
    "# Change the permission of the script to be executable\n",
    "!chmod +x script.sh\n",
    "\n",
    "# Run the script in a subprocess, if the connection established, you should see the output: ztw-restful-cloud connect success \n",
    "subprocess.Popen(['./script.sh'],  shell=True)\n"
   ]
  },
  {
   "attachments": {},
   "cell_type": "markdown",
   "metadata": {},
   "source": [
    "## API Call to the Secure Workspace Managed Remote Application\n",
    "\n",
    "Now that the network tunneling has been established to the remote RESTful application, we can make API calls to it from this notebook. The example application is a simple RESTful API that returns the following JSON response:\n",
    "\n",
    "```json\n",
    "{\n",
    "    \"message\": \"Hello World!\"\n",
    "}\n"
   ]
  },
  {
   "cell_type": "code",
   "execution_count": null,
   "metadata": {},
   "outputs": [],
   "source": [
    "headers = {\"Accept\": \"application/json, text/plain, */*\", \"Authorization\": f\"Bearer {sdp_token_new}\", \"Content-Type\": \"application/json;charset=UTF-8\"}\n",
    "response = requests.get(f\"http://ztenv-myrestful.default.svc.cluster.local:8080/\", headers=headers)\n",
    "\n",
    "if response.status_code == 200 :\n",
    "    print (f\"Success: {response.json()} \\n\")\n",
    "    \n",
    "else: \n",
    "    ERROR_MESSAGE += f\"Error: HTTP {response.status_code} - {response.text} \\n\"\n",
    "    print (ERROR_MESSAGE)\n"
   ]
  },
  {
   "attachments": {},
   "cell_type": "markdown",
   "metadata": {},
   "source": [
    "## Clean Up and Terminate the Tunnel\n",
    "\n",
    "In this cell, we will clean up the application and terminate the tunnel. The script will prompt for your local operating system password in order to run `sudo`. After entering your password, please wait for the CLI to terminate the tunnel.\n"
   ]
  },
  {
   "cell_type": "code",
   "execution_count": null,
   "metadata": {},
   "outputs": [],
   "source": [
    "# kill the process to disconnect the secure workspace\n",
    "!echo {getpass()} | sudo -S killall sdpc\n",
    "!rm -f script.sh"
   ]
  }
 ],
 "metadata": {
  "kernelspec": {
   "display_name": "Python 3 (ipykernel)",
   "language": "python",
   "name": "python3"
  },
  "language_info": {
   "codemirror_mode": {
    "name": "ipython",
    "version": 3
   },
   "file_extension": ".py",
   "mimetype": "text/x-python",
   "name": "python",
   "nbconvert_exporter": "python",
   "pygments_lexer": "ipython3",
   "version": "3.11.3"
  },
  "orig_nbformat": 4,
  "vscode": {
   "interpreter": {
    "hash": "8a5edab282632443219e051e4ade2d1d5bbc671c781051bf1437897cbdfea0f1"
   }
  }
 },
 "nbformat": 4,
 "nbformat_minor": 2
}
